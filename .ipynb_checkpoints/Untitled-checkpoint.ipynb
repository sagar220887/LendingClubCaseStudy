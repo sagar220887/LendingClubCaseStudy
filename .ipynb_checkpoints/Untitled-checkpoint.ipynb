{
 "cells": [
  {
   "cell_type": "code",
   "execution_count": null,
   "id": "1ffab1db",
   "metadata": {},
   "outputs": [],
   "source": [
    "## Analyzing field emp_title\n",
    "print(loan_df['emp_title'].value_counts())\n",
    "\n",
    "## emp_title field is the job title of the borrower can be droped\n",
    "print(f'shape of dataframe before dropping columns {loan_df.shape}')\n",
    "loan_df = loan_df.drop(['emp_title'], axis=1)\n",
    "print(f'shape of dataframe after dropping columns {loan_df.shape}')"
   ]
  },
  {
   "cell_type": "code",
   "execution_count": null,
   "id": "30ffc1f1",
   "metadata": {},
   "outputs": [],
   "source": [
    "## <font color=blue> Insight </font>\n",
    "\n",
    "- emp_title column will not contribute towards the objective\n",
    "- Dropping this column"
   ]
  },
  {
   "cell_type": "code",
   "execution_count": null,
   "id": "0c2588d4",
   "metadata": {},
   "outputs": [],
   "source": []
  },
  {
   "cell_type": "code",
   "execution_count": null,
   "id": "f389cead",
   "metadata": {},
   "outputs": [],
   "source": []
  },
  {
   "cell_type": "code",
   "execution_count": null,
   "id": "3dd55a31",
   "metadata": {},
   "outputs": [],
   "source": []
  },
  {
   "cell_type": "code",
   "execution_count": null,
   "id": "dc41cab6",
   "metadata": {},
   "outputs": [],
   "source": [
    "## Setting 'Not Available' for the null values in pub_rec_bankruptcies"
   ]
  },
  {
   "cell_type": "code",
   "execution_count": null,
   "id": "17623f8e",
   "metadata": {},
   "outputs": [],
   "source": [
    "## Analyzing pub_rec_bankruptcies\n",
    "\n",
    "print(loan_df['pub_rec_bankruptcies'].isnull().sum())\n",
    "print(loan_df['pub_rec_bankruptcies'].value_counts(normalize=True))\n"
   ]
  },
  {
   "cell_type": "code",
   "execution_count": null,
   "id": "49294fdf",
   "metadata": {},
   "outputs": [],
   "source": [
    "## <font color=blue> Insight </font>\n",
    "- Around 95 % of data belongs to the group 0.0\n",
    "- 697 are null values, Assigning them to any of the groups might impact the stats, like % of null > % of category 2.0\n",
    "- Lets assign the null values as 'Not Available'"
   ]
  },
  {
   "cell_type": "code",
   "execution_count": null,
   "id": "098e43b9",
   "metadata": {},
   "outputs": [],
   "source": [
    "### Filling the null values with 'Not Available'\n",
    "\n",
    "loan_df['pub_rec_bankruptcies'].fillna('Not Available', inplace=True)\n",
    "print('POST filna ---------')\n",
    "print(loan_df['pub_rec_bankruptcies'].value_counts())\n",
    "\n",
    "print(loan_df['pub_rec_bankruptcies'].isnull().sum())"
   ]
  },
  {
   "cell_type": "code",
   "execution_count": null,
   "id": "e575503b",
   "metadata": {},
   "outputs": [],
   "source": []
  },
  {
   "cell_type": "code",
   "execution_count": null,
   "id": "edbfc540",
   "metadata": {},
   "outputs": [],
   "source": [
    "## Setting 'Not Available' for the null values in emp_length"
   ]
  },
  {
   "cell_type": "code",
   "execution_count": null,
   "id": "5bcf4efd",
   "metadata": {},
   "outputs": [],
   "source": []
  },
  {
   "cell_type": "code",
   "execution_count": null,
   "id": "47f78efa",
   "metadata": {},
   "outputs": [],
   "source": []
  },
  {
   "cell_type": "code",
   "execution_count": null,
   "id": "2a29b52b",
   "metadata": {},
   "outputs": [],
   "source": []
  },
  {
   "cell_type": "code",
   "execution_count": null,
   "id": "dc0af356",
   "metadata": {},
   "outputs": [],
   "source": []
  },
  {
   "cell_type": "code",
   "execution_count": null,
   "id": "f1ac6460",
   "metadata": {},
   "outputs": [],
   "source": []
  }
 ],
 "metadata": {
  "kernelspec": {
   "display_name": "Python 3 (ipykernel)",
   "language": "python",
   "name": "python3"
  },
  "language_info": {
   "codemirror_mode": {
    "name": "ipython",
    "version": 3
   },
   "file_extension": ".py",
   "mimetype": "text/x-python",
   "name": "python",
   "nbconvert_exporter": "python",
   "pygments_lexer": "ipython3",
   "version": "3.11.0"
  }
 },
 "nbformat": 4,
 "nbformat_minor": 5
}
