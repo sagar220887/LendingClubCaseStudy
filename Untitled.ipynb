{
 "cells": [
  {
   "cell_type": "code",
   "execution_count": null,
   "id": "b7969441",
   "metadata": {},
   "outputs": [],
   "source": [
    "## Analyzing field emp_title\n",
    "print(loan_df['emp_title'].value_counts())\n",
    "\n",
    "## emp_title field is the job title of the borrower can be droped\n",
    "print(f'shape of dataframe before dropping columns {loan_df.shape}')\n",
    "loan_df = loan_df.drop(['emp_title'], axis=1)\n",
    "print(f'shape of dataframe after dropping columns {loan_df.shape}')"
   ]
  },
  {
   "cell_type": "code",
   "execution_count": null,
   "id": "08d74734",
   "metadata": {},
   "outputs": [],
   "source": [
    "## <font color=blue> Insight </font>\n",
    "\n",
    "- emp_title column will not contribute towards the objective\n",
    "- Dropping this column"
   ]
  },
  {
   "cell_type": "code",
   "execution_count": null,
   "id": "e15e8530",
   "metadata": {},
   "outputs": [],
   "source": []
  },
  {
   "cell_type": "code",
   "execution_count": null,
   "id": "99de4a0f",
   "metadata": {},
   "outputs": [],
   "source": []
  },
  {
   "cell_type": "code",
   "execution_count": null,
   "id": "15c35d3e",
   "metadata": {},
   "outputs": [],
   "source": [
    "### Filling the null values with 'Not Available'\n",
    "\n",
    "loan_df['pub_rec_bankruptcies'].fillna('Not Available', inplace=True)\n",
    "print('POST filna ---------\\n')\n",
    "print(loan_df['pub_rec_bankruptcies'].value_counts())\n",
    "print(f\"\\nNull values post filling - {loan_df['pub_rec_bankruptcies'].isnull().sum()}\")"
   ]
  },
  {
   "cell_type": "code",
   "execution_count": null,
   "id": "3cb99ff3",
   "metadata": {},
   "outputs": [],
   "source": []
  },
  {
   "cell_type": "code",
   "execution_count": null,
   "id": "9f87b961",
   "metadata": {},
   "outputs": [],
   "source": [
    "\n"
   ]
  },
  {
   "cell_type": "code",
   "execution_count": null,
   "id": "4de606c1",
   "metadata": {},
   "outputs": [],
   "source": []
  },
  {
   "cell_type": "code",
   "execution_count": null,
   "id": "cd8e6277",
   "metadata": {},
   "outputs": [],
   "source": []
  },
  {
   "cell_type": "code",
   "execution_count": null,
   "id": "8f518e4b",
   "metadata": {},
   "outputs": [],
   "source": []
  },
  {
   "cell_type": "code",
   "execution_count": null,
   "id": "e7ac1151",
   "metadata": {},
   "outputs": [],
   "source": [
    "## Setting 'Not Available' for the null values in emp_length"
   ]
  },
  {
   "cell_type": "code",
   "execution_count": null,
   "id": "d9ce22dd",
   "metadata": {},
   "outputs": [],
   "source": [
    "## Analyzing emp_length \n",
    "\n",
    "print(loan_df['emp_length'].value_counts(normalize=True))\n",
    "print(f\"% of null values - {loan_df['emp_length'].isnull().sum()/len(loan_df)}\")"
   ]
  },
  {
   "cell_type": "code",
   "execution_count": null,
   "id": "78b4f48c",
   "metadata": {},
   "outputs": [],
   "source": [
    "## <font color=blue> Insight </font>\n",
    "- This field represent the number of years of employment. This can be a key field on analysis.\n",
    "- Number number of years of employment will be more likely to repay the loan"
   ]
  },
  {
   "cell_type": "code",
   "execution_count": null,
   "id": "44e7e6e6",
   "metadata": {},
   "outputs": [],
   "source": [
    "### Filling the null values with 'Not Available'\n",
    "\n",
    "loan_df['emp_length'].fillna('Not Available', inplace=True)\n",
    "print('POST filna ---------')\n",
    "print(loan_df['emp_length'].value_counts())\n",
    "\n",
    "print(loan_df['emp_length'].isnull().sum())"
   ]
  },
  {
   "cell_type": "code",
   "execution_count": null,
   "id": "03146b2b",
   "metadata": {},
   "outputs": [],
   "source": []
  },
  {
   "cell_type": "code",
   "execution_count": null,
   "id": "f6ab2780",
   "metadata": {},
   "outputs": [],
   "source": []
  }
 ],
 "metadata": {
  "kernelspec": {
   "display_name": "Python 3 (ipykernel)",
   "language": "python",
   "name": "python3"
  },
  "language_info": {
   "codemirror_mode": {
    "name": "ipython",
    "version": 3
   },
   "file_extension": ".py",
   "mimetype": "text/x-python",
   "name": "python",
   "nbconvert_exporter": "python",
   "pygments_lexer": "ipython3",
   "version": "3.11.0"
  }
 },
 "nbformat": 4,
 "nbformat_minor": 5
}
